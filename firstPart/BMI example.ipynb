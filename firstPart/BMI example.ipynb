{
 "cells": [
  {
   "cell_type": "code",
   "execution_count": 1,
   "metadata": {},
   "outputs": [],
   "source": [
    "import numpy as np\n",
    "import pandas as pd\n",
    "import matplotlib.pyplot as plt\n",
    "import tensorflow as tf\n",
    "import cx_Oracle as cxo\n",
    "import getpass as gp\n",
    "\n",
    "%matplotlib inline"
   ]
  },
  {
   "cell_type": "markdown",
   "metadata": {},
   "source": [
    "### Create an EDW connection  "
   ]
  },
  {
   "cell_type": "code",
   "execution_count": 2,
   "metadata": {},
   "outputs": [
    {
     "name": "stdout",
     "output_type": "stream",
     "text": [
      "EDW passord: ········\n"
     ]
    }
   ],
   "source": [
    "conn = cxo.connect(user=gp.getuser(),password=gp.getpass(\"EDW passord: \"),dsn=\"edw.co.ihc.com\",encoding=\"UTF-8\")"
   ]
  },
  {
   "cell_type": "code",
   "execution_count": 3,
   "metadata": {},
   "outputs": [],
   "source": [
    "query = \"\"\"select height, weight \n",
    "            from cerner_dm.med_admin \n",
    "            where 1 = 1\n",
    "                and height is not null \n",
    "                and height > 1\n",
    "                and height < 3\n",
    "                and weight is not null \n",
    "                and weight < 400\n",
    "                and admit_age_yrs >= 18\n",
    "                and rownum < 50000\"\"\"\n",
    "#there are some errors in this data set, hence all of the WHERE clauses...."
   ]
  },
  {
   "cell_type": "markdown",
   "metadata": {},
   "source": [
    "### Pull height and weight into a dataframe  "
   ]
  },
  {
   "cell_type": "code",
   "execution_count": 4,
   "metadata": {},
   "outputs": [],
   "source": [
    "height_weight_df = pd.read_sql(query, con = conn)"
   ]
  },
  {
   "cell_type": "code",
   "execution_count": 5,
   "metadata": {},
   "outputs": [
    {
     "data": {
      "text/html": [
       "<div>\n",
       "<style scoped>\n",
       "    .dataframe tbody tr th:only-of-type {\n",
       "        vertical-align: middle;\n",
       "    }\n",
       "\n",
       "    .dataframe tbody tr th {\n",
       "        vertical-align: top;\n",
       "    }\n",
       "\n",
       "    .dataframe thead th {\n",
       "        text-align: right;\n",
       "    }\n",
       "</style>\n",
       "<table border=\"1\" class=\"dataframe\">\n",
       "  <thead>\n",
       "    <tr style=\"text-align: right;\">\n",
       "      <th></th>\n",
       "      <th>HEIGHT</th>\n",
       "      <th>WEIGHT</th>\n",
       "    </tr>\n",
       "  </thead>\n",
       "  <tbody>\n",
       "    <tr>\n",
       "      <th>0</th>\n",
       "      <td>1.650</td>\n",
       "      <td>73.9</td>\n",
       "    </tr>\n",
       "    <tr>\n",
       "      <th>1</th>\n",
       "      <td>1.570</td>\n",
       "      <td>89.8</td>\n",
       "    </tr>\n",
       "    <tr>\n",
       "      <th>2</th>\n",
       "      <td>1.778</td>\n",
       "      <td>160.2</td>\n",
       "    </tr>\n",
       "    <tr>\n",
       "      <th>3</th>\n",
       "      <td>1.527</td>\n",
       "      <td>65.3</td>\n",
       "    </tr>\n",
       "    <tr>\n",
       "      <th>4</th>\n",
       "      <td>1.530</td>\n",
       "      <td>98.2</td>\n",
       "    </tr>\n",
       "    <tr>\n",
       "      <th>5</th>\n",
       "      <td>1.700</td>\n",
       "      <td>82.0</td>\n",
       "    </tr>\n",
       "    <tr>\n",
       "      <th>6</th>\n",
       "      <td>1.930</td>\n",
       "      <td>80.0</td>\n",
       "    </tr>\n",
       "    <tr>\n",
       "      <th>7</th>\n",
       "      <td>1.670</td>\n",
       "      <td>77.0</td>\n",
       "    </tr>\n",
       "    <tr>\n",
       "      <th>8</th>\n",
       "      <td>1.651</td>\n",
       "      <td>89.9</td>\n",
       "    </tr>\n",
       "    <tr>\n",
       "      <th>9</th>\n",
       "      <td>1.600</td>\n",
       "      <td>49.0</td>\n",
       "    </tr>\n",
       "  </tbody>\n",
       "</table>\n",
       "</div>"
      ],
      "text/plain": [
       "   HEIGHT  WEIGHT\n",
       "0   1.650    73.9\n",
       "1   1.570    89.8\n",
       "2   1.778   160.2\n",
       "3   1.527    65.3\n",
       "4   1.530    98.2\n",
       "5   1.700    82.0\n",
       "6   1.930    80.0\n",
       "7   1.670    77.0\n",
       "8   1.651    89.9\n",
       "9   1.600    49.0"
      ]
     },
     "execution_count": 5,
     "metadata": {},
     "output_type": "execute_result"
    }
   ],
   "source": [
    "height_weight_df.head(10)"
   ]
  },
  {
   "cell_type": "code",
   "execution_count": 6,
   "metadata": {},
   "outputs": [
    {
     "data": {
      "image/png": "[encoded data removed]",
      "text/plain": [
       "<Figure size 432x288 with 1 Axes>"
      ]
     },
     "metadata": {
      "needs_background": "light"
     },
     "output_type": "display_data"
    }
   ],
   "source": [
    "plt.hist(height_weight_df.HEIGHT)\n",
    "plt.xlabel('Height (m)')\n",
    "plt.show()"
   ]
  },
  {
   "cell_type": "code",
   "execution_count": 7,
   "metadata": {},
   "outputs": [
    {
     "data": {
      "image/png": "[encoded data removed]",
      "text/plain": [
       "<Figure size 432x288 with 1 Axes>"
      ]
     },
     "metadata": {
      "needs_background": "light"
     },
     "output_type": "display_data"
    }
   ],
   "source": [
    "plt.hist(height_weight_df.WEIGHT)\n",
    "plt.xlabel('Mass (kg)')\n",
    "plt.show()"
   ]
  },
  {
   "cell_type": "markdown",
   "metadata": {},
   "source": [
    "### Calulate BMI:"
   ]
  },
  {
   "cell_type": "code",
   "execution_count": 8,
   "metadata": {},
   "outputs": [],
   "source": [
    "BMI = np.divide(height_weight_df.WEIGHT, np.square(height_weight_df.HEIGHT))"
   ]
  },
  {
   "cell_type": "code",
   "execution_count": 9,
   "metadata": {},
   "outputs": [
    {
     "data": {
      "text/plain": [
       "142.53269637403088"
      ]
     },
     "execution_count": 9,
     "metadata": {},
     "output_type": "execute_result"
    }
   ],
   "source": [
    "BMI.max() #clearly an error, but this is deterministic, so not a huge deal...."
   ]
  },
  {
   "cell_type": "code",
   "execution_count": 10,
   "metadata": {},
   "outputs": [
    {
     "data": {
      "image/png": "[encoded data removed]",
      "text/plain": [
       "<Figure size 432x288 with 1 Axes>"
      ]
     },
     "metadata": {
      "needs_background": "light"
     },
     "output_type": "display_data"
    }
   ],
   "source": [
    "plt.hist(BMI)\n",
    "plt.xlabel('BMI')\n",
    "plt.show()"
   ]
  },
  {
   "cell_type": "markdown",
   "metadata": {},
   "source": [
    "### Create a bunch of noise variables"
   ]
  },
  {
   "cell_type": "code",
   "execution_count": 11,
   "metadata": {},
   "outputs": [],
   "source": [
    "n_obs = height_weight_df.shape[0] #number of observations to simulate"
   ]
  },
  {
   "cell_type": "code",
   "execution_count": 12,
   "metadata": {},
   "outputs": [],
   "source": [
    "rand_norm = np.random.randn(n_obs)"
   ]
  },
  {
   "cell_type": "code",
   "execution_count": 13,
   "metadata": {},
   "outputs": [
    {
     "data": {
      "image/png": "[encoded data removed]",
      "text/plain": [
       "<Figure size 432x288 with 1 Axes>"
      ]
     },
     "metadata": {
      "needs_background": "light"
     },
     "output_type": "display_data"
    }
   ],
   "source": [
    "plt.hist(rand_norm)\n",
    "plt.show()"
   ]
  },
  {
   "cell_type": "code",
   "execution_count": 14,
   "metadata": {},
   "outputs": [],
   "source": [
    "rand_unif = rand_norm = np.random.rand(n_obs)"
   ]
  },
  {
   "cell_type": "code",
   "execution_count": 15,
   "metadata": {},
   "outputs": [
    {
     "data": {
      "image/png": "[encoded data removed]",
      "text/plain": [
       "<Figure size 432x288 with 1 Axes>"
      ]
     },
     "metadata": {
      "needs_background": "light"
     },
     "output_type": "display_data"
    }
   ],
   "source": [
    "plt.hist(rand_unif)\n",
    "plt.show()"
   ]
  },
  {
   "cell_type": "code",
   "execution_count": 16,
   "metadata": {},
   "outputs": [],
   "source": [
    "rand_beta1 = rand_norm = np.random.beta(2,5,n_obs)"
   ]
  },
  {
   "cell_type": "code",
   "execution_count": 17,
   "metadata": {},
   "outputs": [
    {
     "data": {
      "image/png": "[encoded data removed]",
      "text/plain": [
       "<Figure size 432x288 with 1 Axes>"
      ]
     },
     "metadata": {
      "needs_background": "light"
     },
     "output_type": "display_data"
    }
   ],
   "source": [
    "plt.hist(rand_beta1)\n",
    "plt.show()"
   ]
  },
  {
   "cell_type": "code",
   "execution_count": 18,
   "metadata": {},
   "outputs": [],
   "source": [
    "rand_beta2 = rand_norm = np.random.beta(5,2,n_obs)"
   ]
  },
  {
   "cell_type": "code",
   "execution_count": 19,
   "metadata": {},
   "outputs": [
    {
     "data": {
      "image/png": "[encoded data removed]",
      "text/plain": [
       "<Figure size 432x288 with 1 Axes>"
      ]
     },
     "metadata": {
      "needs_background": "light"
     },
     "output_type": "display_data"
    }
   ],
   "source": [
    "plt.hist(rand_beta2)\n",
    "plt.show()"
   ]
  },
  {
   "cell_type": "code",
   "execution_count": 20,
   "metadata": {},
   "outputs": [],
   "source": [
    "random_cols = pd.DataFrame(np.column_stack((rand_norm,rand_unif,rand_beta1,rand_beta2)))"
   ]
  },
  {
   "cell_type": "code",
   "execution_count": 21,
   "metadata": {},
   "outputs": [
    {
     "data": {
      "text/html": [
       "<div>\n",
       "<style scoped>\n",
       "    .dataframe tbody tr th:only-of-type {\n",
       "        vertical-align: middle;\n",
       "    }\n",
       "\n",
       "    .dataframe tbody tr th {\n",
       "        vertical-align: top;\n",
       "    }\n",
       "\n",
       "    .dataframe thead th {\n",
       "        text-align: right;\n",
       "    }\n",
       "</style>\n",
       "<table border=\"1\" class=\"dataframe\">\n",
       "  <thead>\n",
       "    <tr style=\"text-align: right;\">\n",
       "      <th></th>\n",
       "      <th>0</th>\n",
       "      <th>1</th>\n",
       "      <th>2</th>\n",
       "      <th>3</th>\n",
       "    </tr>\n",
       "  </thead>\n",
       "  <tbody>\n",
       "    <tr>\n",
       "      <th>0</th>\n",
       "      <td>0.563141</td>\n",
       "      <td>0.122582</td>\n",
       "      <td>0.142643</td>\n",
       "      <td>0.563141</td>\n",
       "    </tr>\n",
       "    <tr>\n",
       "      <th>1</th>\n",
       "      <td>0.610088</td>\n",
       "      <td>0.152015</td>\n",
       "      <td>0.251122</td>\n",
       "      <td>0.610088</td>\n",
       "    </tr>\n",
       "    <tr>\n",
       "      <th>2</th>\n",
       "      <td>0.514373</td>\n",
       "      <td>0.626635</td>\n",
       "      <td>0.279394</td>\n",
       "      <td>0.514373</td>\n",
       "    </tr>\n",
       "    <tr>\n",
       "      <th>3</th>\n",
       "      <td>0.424026</td>\n",
       "      <td>0.354995</td>\n",
       "      <td>0.346689</td>\n",
       "      <td>0.424026</td>\n",
       "    </tr>\n",
       "    <tr>\n",
       "      <th>4</th>\n",
       "      <td>0.908311</td>\n",
       "      <td>0.519609</td>\n",
       "      <td>0.330836</td>\n",
       "      <td>0.908311</td>\n",
       "    </tr>\n",
       "    <tr>\n",
       "      <th>5</th>\n",
       "      <td>0.962230</td>\n",
       "      <td>0.363036</td>\n",
       "      <td>0.168275</td>\n",
       "      <td>0.962230</td>\n",
       "    </tr>\n",
       "    <tr>\n",
       "      <th>6</th>\n",
       "      <td>0.530518</td>\n",
       "      <td>0.423524</td>\n",
       "      <td>0.390682</td>\n",
       "      <td>0.530518</td>\n",
       "    </tr>\n",
       "    <tr>\n",
       "      <th>7</th>\n",
       "      <td>0.569933</td>\n",
       "      <td>0.699284</td>\n",
       "      <td>0.319644</td>\n",
       "      <td>0.569933</td>\n",
       "    </tr>\n",
       "    <tr>\n",
       "      <th>8</th>\n",
       "      <td>0.772230</td>\n",
       "      <td>0.998220</td>\n",
       "      <td>0.510385</td>\n",
       "      <td>0.772230</td>\n",
       "    </tr>\n",
       "    <tr>\n",
       "      <th>9</th>\n",
       "      <td>0.822755</td>\n",
       "      <td>0.737346</td>\n",
       "      <td>0.632889</td>\n",
       "      <td>0.822755</td>\n",
       "    </tr>\n",
       "  </tbody>\n",
       "</table>\n",
       "</div>"
      ],
      "text/plain": [
       "          0         1         2         3\n",
       "0  0.563141  0.122582  0.142643  0.563141\n",
       "1  0.610088  0.152015  0.251122  0.610088\n",
       "2  0.514373  0.626635  0.279394  0.514373\n",
       "3  0.424026  0.354995  0.346689  0.424026\n",
       "4  0.908311  0.519609  0.330836  0.908311\n",
       "5  0.962230  0.363036  0.168275  0.962230\n",
       "6  0.530518  0.423524  0.390682  0.530518\n",
       "7  0.569933  0.699284  0.319644  0.569933\n",
       "8  0.772230  0.998220  0.510385  0.772230\n",
       "9  0.822755  0.737346  0.632889  0.822755"
      ]
     },
     "execution_count": 21,
     "metadata": {},
     "output_type": "execute_result"
    }
   ],
   "source": [
    "random_cols.head(10)"
   ]
  },
  {
   "cell_type": "markdown",
   "metadata": {},
   "source": [
    "### Append these new varaibles to the previous data"
   ]
  },
  {
   "cell_type": "code",
   "execution_count": 22,
   "metadata": {},
   "outputs": [],
   "source": [
    "new_df = pd.concat((height_weight_df,random_cols),axis=1)"
   ]
  },
  {
   "cell_type": "code",
   "execution_count": 23,
   "metadata": {
    "scrolled": true
   },
   "outputs": [
    {
     "data": {
      "text/html": [
       "<div>\n",
       "<style scoped>\n",
       "    .dataframe tbody tr th:only-of-type {\n",
       "        vertical-align: middle;\n",
       "    }\n",
       "\n",
       "    .dataframe tbody tr th {\n",
       "        vertical-align: top;\n",
       "    }\n",
       "\n",
       "    .dataframe thead th {\n",
       "        text-align: right;\n",
       "    }\n",
       "</style>\n",
       "<table border=\"1\" class=\"dataframe\">\n",
       "  <thead>\n",
       "    <tr style=\"text-align: right;\">\n",
       "      <th></th>\n",
       "      <th>HEIGHT</th>\n",
       "      <th>WEIGHT</th>\n",
       "      <th>0</th>\n",
       "      <th>1</th>\n",
       "      <th>2</th>\n",
       "      <th>3</th>\n",
       "    </tr>\n",
       "  </thead>\n",
       "  <tbody>\n",
       "    <tr>\n",
       "      <th>0</th>\n",
       "      <td>1.650</td>\n",
       "      <td>73.9</td>\n",
       "      <td>0.563141</td>\n",
       "      <td>0.122582</td>\n",
       "      <td>0.142643</td>\n",
       "      <td>0.563141</td>\n",
       "    </tr>\n",
       "    <tr>\n",
       "      <th>1</th>\n",
       "      <td>1.570</td>\n",
       "      <td>89.8</td>\n",
       "      <td>0.610088</td>\n",
       "      <td>0.152015</td>\n",
       "      <td>0.251122</td>\n",
       "      <td>0.610088</td>\n",
       "    </tr>\n",
       "    <tr>\n",
       "      <th>2</th>\n",
       "      <td>1.778</td>\n",
       "      <td>160.2</td>\n",
       "      <td>0.514373</td>\n",
       "      <td>0.626635</td>\n",
       "      <td>0.279394</td>\n",
       "      <td>0.514373</td>\n",
       "    </tr>\n",
       "    <tr>\n",
       "      <th>3</th>\n",
       "      <td>1.527</td>\n",
       "      <td>65.3</td>\n",
       "      <td>0.424026</td>\n",
       "      <td>0.354995</td>\n",
       "      <td>0.346689</td>\n",
       "      <td>0.424026</td>\n",
       "    </tr>\n",
       "    <tr>\n",
       "      <th>4</th>\n",
       "      <td>1.530</td>\n",
       "      <td>98.2</td>\n",
       "      <td>0.908311</td>\n",
       "      <td>0.519609</td>\n",
       "      <td>0.330836</td>\n",
       "      <td>0.908311</td>\n",
       "    </tr>\n",
       "    <tr>\n",
       "      <th>5</th>\n",
       "      <td>1.700</td>\n",
       "      <td>82.0</td>\n",
       "      <td>0.962230</td>\n",
       "      <td>0.363036</td>\n",
       "      <td>0.168275</td>\n",
       "      <td>0.962230</td>\n",
       "    </tr>\n",
       "    <tr>\n",
       "      <th>6</th>\n",
       "      <td>1.930</td>\n",
       "      <td>80.0</td>\n",
       "      <td>0.530518</td>\n",
       "      <td>0.423524</td>\n",
       "      <td>0.390682</td>\n",
       "      <td>0.530518</td>\n",
       "    </tr>\n",
       "    <tr>\n",
       "      <th>7</th>\n",
       "      <td>1.670</td>\n",
       "      <td>77.0</td>\n",
       "      <td>0.569933</td>\n",
       "      <td>0.699284</td>\n",
       "      <td>0.319644</td>\n",
       "      <td>0.569933</td>\n",
       "    </tr>\n",
       "    <tr>\n",
       "      <th>8</th>\n",
       "      <td>1.651</td>\n",
       "      <td>89.9</td>\n",
       "      <td>0.772230</td>\n",
       "      <td>0.998220</td>\n",
       "      <td>0.510385</td>\n",
       "      <td>0.772230</td>\n",
       "    </tr>\n",
       "    <tr>\n",
       "      <th>9</th>\n",
       "      <td>1.600</td>\n",
       "      <td>49.0</td>\n",
       "      <td>0.822755</td>\n",
       "      <td>0.737346</td>\n",
       "      <td>0.632889</td>\n",
       "      <td>0.822755</td>\n",
       "    </tr>\n",
       "  </tbody>\n",
       "</table>\n",
       "</div>"
      ],
      "text/plain": [
       "   HEIGHT  WEIGHT         0         1         2         3\n",
       "0   1.650    73.9  0.563141  0.122582  0.142643  0.563141\n",
       "1   1.570    89.8  0.610088  0.152015  0.251122  0.610088\n",
       "2   1.778   160.2  0.514373  0.626635  0.279394  0.514373\n",
       "3   1.527    65.3  0.424026  0.354995  0.346689  0.424026\n",
       "4   1.530    98.2  0.908311  0.519609  0.330836  0.908311\n",
       "5   1.700    82.0  0.962230  0.363036  0.168275  0.962230\n",
       "6   1.930    80.0  0.530518  0.423524  0.390682  0.530518\n",
       "7   1.670    77.0  0.569933  0.699284  0.319644  0.569933\n",
       "8   1.651    89.9  0.772230  0.998220  0.510385  0.772230\n",
       "9   1.600    49.0  0.822755  0.737346  0.632889  0.822755"
      ]
     },
     "execution_count": 23,
     "metadata": {},
     "output_type": "execute_result"
    }
   ],
   "source": [
    "new_df.head(10)"
   ]
  },
  {
   "cell_type": "code",
   "execution_count": null,
   "metadata": {},
   "outputs": [],
   "source": []
  },
  {
   "cell_type": "markdown",
   "metadata": {},
   "source": [
    "define R-squared for keras:"
   ]
  },
  {
   "cell_type": "code",
   "execution_count": 24,
   "metadata": {},
   "outputs": [],
   "source": [
    "def R_Squared(y_true, y_pred):\n",
    "    from tensorflow.keras import backend as K\n",
    "    SS_res =  K.sum(K.square( y_true-y_pred ))\n",
    "    SS_tot = K.sum(K.square( y_true - K.mean(y_true) ) )\n",
    "    return ( 1 - SS_res/(SS_tot + K.epsilon()) )"
   ]
  },
  {
   "cell_type": "markdown",
   "metadata": {},
   "source": [
    "### run model, but with the noise variables thrown in"
   ]
  },
  {
   "cell_type": "code",
   "execution_count": 26,
   "metadata": {},
   "outputs": [
    {
     "name": "stdout",
     "output_type": "stream",
     "text": [
      "Epoch 1/15\n",
      "49999/49999 [==============================] - 3s 68us/sample - loss: 18.0378 - R_Squared: 0.5842\n",
      "Epoch 2/15\n",
      "49999/49999 [==============================] - 2s 46us/sample - loss: 13.0373 - R_Squared: 0.7068\n",
      "Epoch 3/15\n",
      "49999/49999 [==============================] - 2s 42us/sample - loss: 12.5569 - R_Squared: 0.7197\n",
      "Epoch 4/15\n",
      "49999/49999 [==============================] - 2s 42us/sample - loss: 12.2598 - R_Squared: 0.7285\n",
      "Epoch 5/15\n",
      "49999/49999 [==============================] - 2s 40us/sample - loss: 11.8032 - R_Squared: 0.7395\n",
      "Epoch 6/15\n",
      "49999/49999 [==============================] - 2s 40us/sample - loss: 11.0871 - R_Squared: 0.7556\n",
      "Epoch 7/15\n",
      "49999/49999 [==============================] - 2s 40us/sample - loss: 9.5923 - R_Squared: 0.7903\n",
      "Epoch 8/15\n",
      "49999/49999 [==============================] - 2s 40us/sample - loss: 6.9876 - R_Squared: 0.8476\n",
      "Epoch 9/15\n",
      "49999/49999 [==============================] - 2s 50us/sample - loss: 3.6710 - R_Squared: 0.9228\n",
      "Epoch 10/15\n",
      "49999/49999 [==============================] - 2s 40us/sample - loss: 1.6763 - R_Squared: 0.9674\n",
      "Epoch 11/15\n",
      "49999/49999 [==============================] - 2s 42us/sample - loss: 1.1155 - R_Squared: 0.9791\n",
      "Epoch 12/15\n",
      "49999/49999 [==============================] - 2s 42us/sample - loss: 0.9988 - R_Squared: 0.9817\n",
      "Epoch 13/15\n",
      "49999/49999 [==============================] - 2s 41us/sample - loss: 0.9319 - R_Squared: 0.9824\n",
      "Epoch 14/15\n",
      "49999/49999 [==============================] - 2s 44us/sample - loss: 0.9220 - R_Squared: 0.9826\n",
      "Epoch 15/15\n",
      "49999/49999 [==============================] - 2s 43us/sample - loss: 0.8814 - R_Squared: 0.9831\n"
     ]
    },
    {
     "data": {
      "text/plain": [
       "<tensorflow.python.keras.callbacks.History at 0x219334b83c8>"
      ]
     },
     "execution_count": 26,
     "metadata": {},
     "output_type": "execute_result"
    }
   ],
   "source": [
    "model = tf.keras.models.Sequential()\n",
    "\n",
    "model.add(tf.keras.layers.Dense(16, activation=tf.nn.relu,input_shape = (6,)))\n",
    "model.add(tf.keras.layers.Dense(16, activation=tf.nn.relu))\n",
    "model.add(tf.keras.layers.Dense(1))\n",
    "\n",
    "model.compile(optimizer = 'adam',loss = 'mean_squared_error',metrics=[R_Squared])\n",
    "\n",
    "model.fit(new_df,BMI,batch_size = 32,epochs = 15)"
   ]
  },
  {
   "cell_type": "markdown",
   "metadata": {},
   "source": [
    "The performance great--despite the presence of variables that add no value.\n",
    "It is able to create an excellent facsimile of a transformation!"
   ]
  },
  {
   "cell_type": "code",
   "execution_count": null,
   "metadata": {},
   "outputs": [],
   "source": []
  }
 ],
 "metadata": {
  "kernelspec": {
   "display_name": "Python 3",
   "language": "python",
   "name": "python3"
  },
  "language_info": {
   "codemirror_mode": {
    "name": "ipython",
    "version": 3
   },
   "file_extension": ".py",
   "mimetype": "text/x-python",
   "name": "python",
   "nbconvert_exporter": "python",
   "pygments_lexer": "ipython3",
   "version": "3.7.4"
  }
 },
 "nbformat": 4,
 "nbformat_minor": 2
}
