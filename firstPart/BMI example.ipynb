{
 "cells": [
  {
   "cell_type": "code",
   "execution_count": 5,
   "metadata": {},
   "outputs": [],
   "source": [
    "import numpy as np\n",
    "import pandas as pd\n",
    "import matplotlib.pyplot as plt\n",
    "import tensorflow as tf\n",
    "import cx_Oracle as cxo\n",
    "import getpass as gp\n",
    "\n",
    "%matplotlib inline"
   ]
  },
  {
   "cell_type": "markdown",
   "metadata": {},
   "source": [
    "### Create an EDW connection  "
   ]
  },
  {
   "cell_type": "code",
   "execution_count": 4,
   "metadata": {},
   "outputs": [
    {
     "name": "stdout",
     "output_type": "stream",
     "text": [
      "EDW passord: ········\n"
     ]
    }
   ],
   "source": [
    "conn = cxo.connect(user=gp.getuser(),password=gp.getpass(\"EDW passord: \"),dsn=\"edw.co.ihc.com\",encoding=\"UTF-8\")"
   ]
  },
  {
   "cell_type": "code",
   "execution_count": 78,
   "metadata": {},
   "outputs": [],
   "source": [
    "query = \"\"\"select height, weight \n",
    "            from cerner_dm.med_admin \n",
    "            where 1 = 1\n",
    "                and height is not null \n",
    "                and height > 1\n",
    "                and height < 3\n",
    "                and weight is not null \n",
    "                and weight < 400\n",
    "                and admit_age_yrs >= 18\n",
    "                and rownum < 50000\"\"\"\n",
    "#there are some errors in this data set, hence all of the WHERE clauses...."
   ]
  },
  {
   "cell_type": "markdown",
   "metadata": {},
   "source": [
    "### Pull height and weight into a dataframe  "
   ]
  },
  {
   "cell_type": "code",
   "execution_count": 79,
   "metadata": {},
   "outputs": [],
   "source": [
    "BMI_df = pd.read_sql(query, con = conn)"
   ]
  },
  {
   "cell_type": "code",
   "execution_count": 80,
   "metadata": {},
   "outputs": [
    {
     "data": {
      "text/html": [
       "<div>\n",
       "<style scoped>\n",
       "    .dataframe tbody tr th:only-of-type {\n",
       "        vertical-align: middle;\n",
       "    }\n",
       "\n",
       "    .dataframe tbody tr th {\n",
       "        vertical-align: top;\n",
       "    }\n",
       "\n",
       "    .dataframe thead th {\n",
       "        text-align: right;\n",
       "    }\n",
       "</style>\n",
       "<table border=\"1\" class=\"dataframe\">\n",
       "  <thead>\n",
       "    <tr style=\"text-align: right;\">\n",
       "      <th></th>\n",
       "      <th>HEIGHT</th>\n",
       "      <th>WEIGHT</th>\n",
       "    </tr>\n",
       "  </thead>\n",
       "  <tbody>\n",
       "    <tr>\n",
       "      <th>0</th>\n",
       "      <td>1.650</td>\n",
       "      <td>73.9</td>\n",
       "    </tr>\n",
       "    <tr>\n",
       "      <th>1</th>\n",
       "      <td>1.570</td>\n",
       "      <td>89.8</td>\n",
       "    </tr>\n",
       "    <tr>\n",
       "      <th>2</th>\n",
       "      <td>1.778</td>\n",
       "      <td>160.2</td>\n",
       "    </tr>\n",
       "    <tr>\n",
       "      <th>3</th>\n",
       "      <td>1.527</td>\n",
       "      <td>65.3</td>\n",
       "    </tr>\n",
       "    <tr>\n",
       "      <th>4</th>\n",
       "      <td>1.530</td>\n",
       "      <td>98.2</td>\n",
       "    </tr>\n",
       "  </tbody>\n",
       "</table>\n",
       "</div>"
      ],
      "text/plain": [
       "   HEIGHT  WEIGHT\n",
       "0   1.650    73.9\n",
       "1   1.570    89.8\n",
       "2   1.778   160.2\n",
       "3   1.527    65.3\n",
       "4   1.530    98.2"
      ]
     },
     "execution_count": 80,
     "metadata": {},
     "output_type": "execute_result"
    }
   ],
   "source": [
    "BMI_df.head()"
   ]
  },
  {
   "cell_type": "code",
   "execution_count": 81,
   "metadata": {},
   "outputs": [
    {
     "data": {
      "image/png": "[encoded data removed]",
      "text/plain": [
       "<Figure size 432x288 with 1 Axes>"
      ]
     },
     "metadata": {
      "needs_background": "light"
     },
     "output_type": "display_data"
    }
   ],
   "source": [
    "plt.hist(BMI_df.HEIGHT)\n",
    "plt.xlabel('Height (m)')\n",
    "plt.show()"
   ]
  },
  {
   "cell_type": "code",
   "execution_count": 82,
   "metadata": {},
   "outputs": [
    {
     "data": {
      "image/png": "[encoded data removed]",
      "text/plain": [
       "<Figure size 432x288 with 1 Axes>"
      ]
     },
     "metadata": {
      "needs_background": "light"
     },
     "output_type": "display_data"
    }
   ],
   "source": [
    "plt.hist(BMI_df.WEIGHT)\n",
    "plt.xlabel('Mass (kg)')\n",
    "plt.show()"
   ]
  },
  {
   "cell_type": "markdown",
   "metadata": {},
   "source": [
    "### Calulate BMI:"
   ]
  },
  {
   "cell_type": "code",
   "execution_count": 83,
   "metadata": {},
   "outputs": [],
   "source": [
    "Y = np.divide(BMI_df.WEIGHT, np.square(BMI_df.HEIGHT))"
   ]
  },
  {
   "cell_type": "code",
   "execution_count": 84,
   "metadata": {},
   "outputs": [
    {
     "data": {
      "text/plain": [
       "142.53269637403088"
      ]
     },
     "execution_count": 84,
     "metadata": {},
     "output_type": "execute_result"
    }
   ],
   "source": [
    "Y.max() #clearly an error, but this is deterministic, so not a big deal...."
   ]
  },
  {
   "cell_type": "code",
   "execution_count": 85,
   "metadata": {},
   "outputs": [
    {
     "data": {
      "image/png": "[encoded data removed]",
      "text/plain": [
       "<Figure size 432x288 with 1 Axes>"
      ]
     },
     "metadata": {
      "needs_background": "light"
     },
     "output_type": "display_data"
    }
   ],
   "source": [
    "plt.hist(Y)\n",
    "plt.xlabel('BMI')\n",
    "plt.show()"
   ]
  },
  {
   "cell_type": "code",
   "execution_count": null,
   "metadata": {},
   "outputs": [],
   "source": []
  },
  {
   "cell_type": "markdown",
   "metadata": {},
   "source": [
    "define R-squared for keras:"
   ]
  },
  {
   "cell_type": "code",
   "execution_count": 86,
   "metadata": {},
   "outputs": [],
   "source": [
    "def R_Squared(y_true, y_pred):\n",
    "    from tensorflow.keras import backend as K\n",
    "    SS_res =  K.sum(K.square( y_true-y_pred ))\n",
    "    SS_tot = K.sum(K.square( y_true - K.mean(y_true) ) )\n",
    "    return ( 1 - SS_res/(SS_tot + K.epsilon()) )"
   ]
  },
  {
   "cell_type": "markdown",
   "metadata": {},
   "source": [
    "### Create/run the model:"
   ]
  },
  {
   "cell_type": "code",
   "execution_count": 94,
   "metadata": {},
   "outputs": [
    {
     "name": "stdout",
     "output_type": "stream",
     "text": [
      "Epoch 1/15\n",
      "49999/49999 [==============================] - 2s 33us/sample - loss: 100.5099 - R_Squared: -1.2877\n",
      "Epoch 2/15\n",
      "49999/49999 [==============================] - 2s 32us/sample - loss: 14.0507 - R_Squared: 0.6835\n",
      "Epoch 3/15\n",
      "49999/49999 [==============================] - 2s 33us/sample - loss: 13.6804 - R_Squared: 0.6912\n",
      "Epoch 4/15\n",
      "49999/49999 [==============================] - 2s 31us/sample - loss: 13.2394 - R_Squared: 0.7030\n",
      "Epoch 5/15\n",
      "49999/49999 [==============================] - 2s 32us/sample - loss: 12.9134 - R_Squared: 0.7090\n",
      "Epoch 6/15\n",
      "49999/49999 [==============================] - 2s 31us/sample - loss: 12.6031 - R_Squared: 0.7183\n",
      "Epoch 7/15\n",
      "49999/49999 [==============================] - 2s 32us/sample - loss: 12.3417 - R_Squared: 0.7253\n",
      "Epoch 8/15\n",
      "49999/49999 [==============================] - 2s 33us/sample - loss: 12.0726 - R_Squared: 0.7333\n",
      "Epoch 9/15\n",
      "49999/49999 [==============================] - 2s 32us/sample - loss: 11.7398 - R_Squared: 0.7415\n",
      "Epoch 10/15\n",
      "49999/49999 [==============================] - 2s 31us/sample - loss: 11.2486 - R_Squared: 0.7500\n",
      "Epoch 11/15\n",
      "49999/49999 [==============================] - 2s 32us/sample - loss: 10.4268 - R_Squared: 0.7708\n",
      "Epoch 12/15\n",
      "49999/49999 [==============================] - 2s 32us/sample - loss: 8.4052 - R_Squared: 0.8169\n",
      "Epoch 13/15\n",
      "49999/49999 [==============================] - 2s 31us/sample - loss: 4.2794 - R_Squared: 0.9095\n",
      "Epoch 14/15\n",
      "49999/49999 [==============================] - 2s 32us/sample - loss: 1.6339 - R_Squared: 0.9683\n",
      "Epoch 15/15\n",
      "49999/49999 [==============================] - 2s 36us/sample - loss: 1.0350 - R_Squared: 0.9807\n"
     ]
    },
    {
     "data": {
      "text/plain": [
       "<tensorflow.python.keras.callbacks.History at 0x1f042270f88>"
      ]
     },
     "execution_count": 94,
     "metadata": {},
     "output_type": "execute_result"
    }
   ],
   "source": [
    "model = tf.keras.models.Sequential()\n",
    "\n",
    "model.add(tf.keras.layers.Dense(16, activation=tf.nn.relu,input_shape = (2,)))\n",
    "model.add(tf.keras.layers.Dense(16, activation=tf.nn.relu))\n",
    "model.add(tf.keras.layers.Dense(1))\n",
    "\n",
    "model.compile(optimizer = 'adam',loss = 'mean_squared_error',metrics=[R_Squared])\n",
    "\n",
    "model.fit(BMI_df,Y,batch_size = 32,epochs = 15)"
   ]
  },
  {
   "cell_type": "markdown",
   "metadata": {},
   "source": [
    "The final R-Squared varies from run to run, but is typlically close to 98%--a near perfect prediction."
   ]
  },
  {
   "cell_type": "code",
   "execution_count": null,
   "metadata": {},
   "outputs": [],
   "source": []
  },
  {
   "cell_type": "code",
   "execution_count": null,
   "metadata": {},
   "outputs": [],
   "source": []
  },
  {
   "cell_type": "markdown",
   "metadata": {},
   "source": [
    "## Sligthtly Different Example  "
   ]
  },
  {
   "cell_type": "markdown",
   "metadata": {},
   "source": [
    "### Create a bunch of random variables"
   ]
  },
  {
   "cell_type": "code",
   "execution_count": 100,
   "metadata": {},
   "outputs": [],
   "source": [
    "n_obs = BMI_df.shape[0] #number of observations to simulate"
   ]
  },
  {
   "cell_type": "code",
   "execution_count": 111,
   "metadata": {},
   "outputs": [],
   "source": [
    "rand_norm = np.random.randn(n_obs)"
   ]
  },
  {
   "cell_type": "code",
   "execution_count": 112,
   "metadata": {},
   "outputs": [
    {
     "data": {
      "image/png": "[encoded data removed]",
      "text/plain": [
       "<Figure size 432x288 with 1 Axes>"
      ]
     },
     "metadata": {
      "needs_background": "light"
     },
     "output_type": "display_data"
    }
   ],
   "source": [
    "plt.hist(rand_norm)\n",
    "plt.show()"
   ]
  },
  {
   "cell_type": "code",
   "execution_count": 109,
   "metadata": {},
   "outputs": [],
   "source": [
    "rand_unif = rand_norm = np.random.rand(n_obs)"
   ]
  },
  {
   "cell_type": "code",
   "execution_count": 113,
   "metadata": {},
   "outputs": [
    {
     "data": {
      "image/png": "[encoded data removed]",
      "text/plain": [
       "<Figure size 432x288 with 1 Axes>"
      ]
     },
     "metadata": {
      "needs_background": "light"
     },
     "output_type": "display_data"
    }
   ],
   "source": [
    "plt.hist(rand_unif)\n",
    "plt.show()"
   ]
  },
  {
   "cell_type": "code",
   "execution_count": 122,
   "metadata": {},
   "outputs": [],
   "source": [
    "rand_beta1 = rand_norm = np.random.beta(2,5,n_obs)"
   ]
  },
  {
   "cell_type": "code",
   "execution_count": 116,
   "metadata": {},
   "outputs": [
    {
     "data": {
      "image/png": "[encoded data removed]",
      "text/plain": [
       "<Figure size 432x288 with 1 Axes>"
      ]
     },
     "metadata": {
      "needs_background": "light"
     },
     "output_type": "display_data"
    }
   ],
   "source": [
    "plt.hist(rand_beta1)\n",
    "plt.show()"
   ]
  },
  {
   "cell_type": "code",
   "execution_count": 117,
   "metadata": {},
   "outputs": [],
   "source": [
    "rand_beta2 = rand_norm = np.random.beta(5,2,n_obs)"
   ]
  },
  {
   "cell_type": "code",
   "execution_count": 119,
   "metadata": {},
   "outputs": [
    {
     "data": {
      "image/png": "[encoded data removed]",
      "text/plain": [
       "<Figure size 432x288 with 1 Axes>"
      ]
     },
     "metadata": {
      "needs_background": "light"
     },
     "output_type": "display_data"
    }
   ],
   "source": [
    "plt.hist(rand_beta2)\n",
    "plt.show()"
   ]
  },
  {
   "cell_type": "code",
   "execution_count": 137,
   "metadata": {},
   "outputs": [],
   "source": [
    "random_cols = pd.DataFrame(np.column_stack((rand_norm,rand_unif,rand_beta1,rand_beta2)))"
   ]
  },
  {
   "cell_type": "code",
   "execution_count": 138,
   "metadata": {},
   "outputs": [
    {
     "data": {
      "text/html": [
       "<div>\n",
       "<style scoped>\n",
       "    .dataframe tbody tr th:only-of-type {\n",
       "        vertical-align: middle;\n",
       "    }\n",
       "\n",
       "    .dataframe tbody tr th {\n",
       "        vertical-align: top;\n",
       "    }\n",
       "\n",
       "    .dataframe thead th {\n",
       "        text-align: right;\n",
       "    }\n",
       "</style>\n",
       "<table border=\"1\" class=\"dataframe\">\n",
       "  <thead>\n",
       "    <tr style=\"text-align: right;\">\n",
       "      <th></th>\n",
       "      <th>0</th>\n",
       "      <th>1</th>\n",
       "      <th>2</th>\n",
       "      <th>3</th>\n",
       "    </tr>\n",
       "  </thead>\n",
       "  <tbody>\n",
       "    <tr>\n",
       "      <th>0</th>\n",
       "      <td>0.679806</td>\n",
       "      <td>0.364068</td>\n",
       "      <td>0.679806</td>\n",
       "      <td>0.671993</td>\n",
       "    </tr>\n",
       "    <tr>\n",
       "      <th>1</th>\n",
       "      <td>0.053658</td>\n",
       "      <td>0.178234</td>\n",
       "      <td>0.053658</td>\n",
       "      <td>0.743777</td>\n",
       "    </tr>\n",
       "    <tr>\n",
       "      <th>2</th>\n",
       "      <td>0.209401</td>\n",
       "      <td>0.300625</td>\n",
       "      <td>0.209401</td>\n",
       "      <td>0.677793</td>\n",
       "    </tr>\n",
       "    <tr>\n",
       "      <th>3</th>\n",
       "      <td>0.270386</td>\n",
       "      <td>0.353318</td>\n",
       "      <td>0.270386</td>\n",
       "      <td>0.845811</td>\n",
       "    </tr>\n",
       "    <tr>\n",
       "      <th>4</th>\n",
       "      <td>0.512726</td>\n",
       "      <td>0.467280</td>\n",
       "      <td>0.512726</td>\n",
       "      <td>0.787724</td>\n",
       "    </tr>\n",
       "  </tbody>\n",
       "</table>\n",
       "</div>"
      ],
      "text/plain": [
       "          0         1         2         3\n",
       "0  0.679806  0.364068  0.679806  0.671993\n",
       "1  0.053658  0.178234  0.053658  0.743777\n",
       "2  0.209401  0.300625  0.209401  0.677793\n",
       "3  0.270386  0.353318  0.270386  0.845811\n",
       "4  0.512726  0.467280  0.512726  0.787724"
      ]
     },
     "execution_count": 138,
     "metadata": {},
     "output_type": "execute_result"
    }
   ],
   "source": [
    "random_cols.head()"
   ]
  },
  {
   "cell_type": "markdown",
   "metadata": {},
   "source": [
    "### Append these new varaibles to the previous data"
   ]
  },
  {
   "cell_type": "code",
   "execution_count": 147,
   "metadata": {},
   "outputs": [],
   "source": [
    "new_df = pd.concat((BMI_df,random_cols),axis=1)"
   ]
  },
  {
   "cell_type": "code",
   "execution_count": 148,
   "metadata": {},
   "outputs": [
    {
     "data": {
      "text/html": [
       "<div>\n",
       "<style scoped>\n",
       "    .dataframe tbody tr th:only-of-type {\n",
       "        vertical-align: middle;\n",
       "    }\n",
       "\n",
       "    .dataframe tbody tr th {\n",
       "        vertical-align: top;\n",
       "    }\n",
       "\n",
       "    .dataframe thead th {\n",
       "        text-align: right;\n",
       "    }\n",
       "</style>\n",
       "<table border=\"1\" class=\"dataframe\">\n",
       "  <thead>\n",
       "    <tr style=\"text-align: right;\">\n",
       "      <th></th>\n",
       "      <th>HEIGHT</th>\n",
       "      <th>WEIGHT</th>\n",
       "      <th>0</th>\n",
       "      <th>1</th>\n",
       "      <th>2</th>\n",
       "      <th>3</th>\n",
       "    </tr>\n",
       "  </thead>\n",
       "  <tbody>\n",
       "    <tr>\n",
       "      <th>0</th>\n",
       "      <td>1.650</td>\n",
       "      <td>73.9</td>\n",
       "      <td>0.679806</td>\n",
       "      <td>0.364068</td>\n",
       "      <td>0.679806</td>\n",
       "      <td>0.671993</td>\n",
       "    </tr>\n",
       "    <tr>\n",
       "      <th>1</th>\n",
       "      <td>1.570</td>\n",
       "      <td>89.8</td>\n",
       "      <td>0.053658</td>\n",
       "      <td>0.178234</td>\n",
       "      <td>0.053658</td>\n",
       "      <td>0.743777</td>\n",
       "    </tr>\n",
       "    <tr>\n",
       "      <th>2</th>\n",
       "      <td>1.778</td>\n",
       "      <td>160.2</td>\n",
       "      <td>0.209401</td>\n",
       "      <td>0.300625</td>\n",
       "      <td>0.209401</td>\n",
       "      <td>0.677793</td>\n",
       "    </tr>\n",
       "    <tr>\n",
       "      <th>3</th>\n",
       "      <td>1.527</td>\n",
       "      <td>65.3</td>\n",
       "      <td>0.270386</td>\n",
       "      <td>0.353318</td>\n",
       "      <td>0.270386</td>\n",
       "      <td>0.845811</td>\n",
       "    </tr>\n",
       "    <tr>\n",
       "      <th>4</th>\n",
       "      <td>1.530</td>\n",
       "      <td>98.2</td>\n",
       "      <td>0.512726</td>\n",
       "      <td>0.467280</td>\n",
       "      <td>0.512726</td>\n",
       "      <td>0.787724</td>\n",
       "    </tr>\n",
       "  </tbody>\n",
       "</table>\n",
       "</div>"
      ],
      "text/plain": [
       "   HEIGHT  WEIGHT         0         1         2         3\n",
       "0   1.650    73.9  0.679806  0.364068  0.679806  0.671993\n",
       "1   1.570    89.8  0.053658  0.178234  0.053658  0.743777\n",
       "2   1.778   160.2  0.209401  0.300625  0.209401  0.677793\n",
       "3   1.527    65.3  0.270386  0.353318  0.270386  0.845811\n",
       "4   1.530    98.2  0.512726  0.467280  0.512726  0.787724"
      ]
     },
     "execution_count": 148,
     "metadata": {},
     "output_type": "execute_result"
    }
   ],
   "source": [
    "new_df.head()"
   ]
  },
  {
   "cell_type": "markdown",
   "metadata": {},
   "source": [
    "### re-run the same model"
   ]
  },
  {
   "cell_type": "code",
   "execution_count": 151,
   "metadata": {},
   "outputs": [
    {
     "name": "stdout",
     "output_type": "stream",
     "text": [
      "Epoch 1/15\n",
      "49999/49999 [==============================] - 2s 34us/sample - loss: 44.7894 - R_Squared: 0.0188\n",
      "Epoch 2/15\n",
      "49999/49999 [==============================] - 2s 32us/sample - loss: 13.3919 - R_Squared: 0.6961\n",
      "Epoch 3/15\n",
      "49999/49999 [==============================] - 2s 32us/sample - loss: 12.9088 - R_Squared: 0.7116\n",
      "Epoch 4/15\n",
      "49999/49999 [==============================] - 2s 32us/sample - loss: 12.6346 - R_Squared: 0.7204\n",
      "Epoch 5/15\n",
      "49999/49999 [==============================] - 2s 33us/sample - loss: 12.1936 - R_Squared: 0.7301\n",
      "Epoch 6/15\n",
      "49999/49999 [==============================] - 2s 36us/sample - loss: 11.6552 - R_Squared: 0.7410\n",
      "Epoch 7/15\n",
      "49999/49999 [==============================] - 2s 35us/sample - loss: 10.3169 - R_Squared: 0.7718\n",
      "Epoch 8/15\n",
      "49999/49999 [==============================] - 2s 32us/sample - loss: 7.3327 - R_Squared: 0.8406\n",
      "Epoch 9/15\n",
      "49999/49999 [==============================] - 2s 32us/sample - loss: 3.2162 - R_Squared: 0.9332\n",
      "Epoch 10/15\n",
      "49999/49999 [==============================] - 2s 37us/sample - loss: 1.2997 - R_Squared: 0.9754\n",
      "Epoch 11/15\n",
      "49999/49999 [==============================] - 2s 41us/sample - loss: 0.8411 - R_Squared: 0.9853\n",
      "Epoch 12/15\n",
      "49999/49999 [==============================] - 2s 32us/sample - loss: 0.6504 - R_Squared: 0.9889\n",
      "Epoch 13/15\n",
      "49999/49999 [==============================] - 2s 34us/sample - loss: 0.5152 - R_Squared: 0.9913\n",
      "Epoch 14/15\n",
      "49999/49999 [==============================] - 2s 32us/sample - loss: 0.4343 - R_Squared: 0.9934\n",
      "Epoch 15/15\n",
      "49999/49999 [==============================] - 2s 33us/sample - loss: 0.3663 - R_Squared: 0.9938\n"
     ]
    },
    {
     "data": {
      "text/plain": [
       "<tensorflow.python.keras.callbacks.History at 0x1f043f6cf48>"
      ]
     },
     "execution_count": 151,
     "metadata": {},
     "output_type": "execute_result"
    }
   ],
   "source": [
    "model = tf.keras.models.Sequential()\n",
    "\n",
    "model.add(tf.keras.layers.Dense(16, activation=tf.nn.relu,input_shape = (6,)))\n",
    "model.add(tf.keras.layers.Dense(16, activation=tf.nn.relu))\n",
    "model.add(tf.keras.layers.Dense(1))\n",
    "\n",
    "model.compile(optimizer = 'adam',loss = 'mean_squared_error',metrics=[R_Squared])\n",
    "\n",
    "model.fit(new_df,Y,batch_size = 32,epochs = 15)"
   ]
  },
  {
   "cell_type": "markdown",
   "metadata": {},
   "source": [
    "The performance is the same--despite the presence of variables that add no value.\n",
    "It is still able to create a facsimile of a transformation!"
   ]
  }
 ],
 "metadata": {
  "kernelspec": {
   "display_name": "Python 3",
   "language": "python",
   "name": "python3"
  },
  "language_info": {
   "codemirror_mode": {
    "name": "ipython",
    "version": 3
   },
   "file_extension": ".py",
   "mimetype": "text/x-python",
   "name": "python",
   "nbconvert_exporter": "python",
   "pygments_lexer": "ipython3",
   "version": "3.7.4"
  }
 },
 "nbformat": 4,
 "nbformat_minor": 2
}
